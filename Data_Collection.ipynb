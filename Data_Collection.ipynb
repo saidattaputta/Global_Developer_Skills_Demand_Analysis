{
 "cells": [
  {
   "cell_type": "code",
   "execution_count": 27,
   "id": "fbb14f14",
   "metadata": {},
   "outputs": [],
   "source": [
    "#  importing libraries\n",
    "import pandas as pd\n",
    "import json\n",
    "import requests"
   ]
  },
  {
   "cell_type": "code",
   "execution_count": 28,
   "id": "5d5aebbe",
   "metadata": {},
   "outputs": [],
   "source": [
    "api_url = \"https://cf-courses-data.s3.us.cloud-object-storage.appdomain.cloud/IBM-DA0321EN-SkillsNetwork/labs/module%201/Accessing%20Data%20Using%20APIs/jobs.json\"\n",
    "#  reading the json file\n",
    "def get_number_of_jobs(Technology):\n",
    "    number_of_jobs = 0\n",
    "    response = requests.get(api_url)\n",
    "    if response.ok:\n",
    "        data = response.json()\n",
    "    for post in data:\n",
    "        for skill in post['Key Skills'].split(sep='|'):\n",
    "            if skill.strip() == Technology:\n",
    "                number_of_jobs += 1\n",
    "    return number_of_jobs, Technology"
   ]
  },
  {
   "cell_type": "code",
   "execution_count": 29,
   "id": "5019f108",
   "metadata": {},
   "outputs": [
    {
     "data": {
      "text/plain": [
       "(1165, 'Python')"
      ]
     },
     "execution_count": 29,
     "metadata": {},
     "output_type": "execute_result"
    }
   ],
   "source": [
    "get_number_of_jobs('Python')"
   ]
  },
  {
   "cell_type": "code",
   "execution_count": 30,
   "id": "d8f0f080",
   "metadata": {},
   "outputs": [],
   "source": [
    "def get_jobs_by_location(location):\n",
    "    number_of_jobs = 0\n",
    "    response = requests.get(api_url)\n",
    "    if response.ok:\n",
    "        data = response.json()\n",
    "    for post in data:\n",
    "        if post['Location'].lower() == location.lower():\n",
    "             number_of_jobs += 1\n",
    "    return number_of_jobs, location"
   ]
  },
  {
   "cell_type": "code",
   "execution_count": 31,
   "id": "6db10160",
   "metadata": {},
   "outputs": [
    {
     "data": {
      "text/plain": [
       "(640, 'Los Angeles')"
      ]
     },
     "execution_count": 31,
     "metadata": {},
     "output_type": "execute_result"
    }
   ],
   "source": [
    "get_jobs_by_location('Los Angeles')"
   ]
  },
  {
   "cell_type": "code",
   "execution_count": 32,
   "id": "395d753a",
   "metadata": {},
   "outputs": [],
   "source": [
    "locations = ['New York', 'Los Angeles','Boston','Seattle', 'San Francisco', 'Dallas']\n",
    "L = [\"Los Angeles\",\"New York\",\"San Francisco\",\"Washington DC\",\"Seattle\"]"
   ]
  },
  {
   "cell_type": "code",
   "execution_count": 33,
   "id": "233472a3",
   "metadata": {},
   "outputs": [
    {
     "name": "stdout",
     "output_type": "stream",
     "text": [
      "Location\n",
      "Number of Jobs\n",
      "New York\n",
      "3226\n",
      "Los Angeles\n",
      "640\n",
      "Boston\n",
      "2966\n",
      "Seattle\n",
      "3375\n",
      "San Francisco\n",
      "435\n",
      "Dallas\n",
      "1208\n"
     ]
    }
   ],
   "source": [
    "# Add this optimization BEFORE your code:\n",
    "import requests\n",
    "jobs_data = requests.get(api_url).json()  # Load once\n",
    "\n",
    "def get_jobs_by_location(location):\n",
    "    count = sum(1 for job in jobs_data \n",
    "                if location.lower() in job.get('Location', '').lower())\n",
    "    return location, count  # Return tuple for direct append\n",
    "\n",
    "# Your code will then run in under 30 seconds!\n",
    "\n",
    "from openpyxl import Workbook\n",
    "wb = Workbook()\n",
    "ws = wb.active\n",
    "ws.append(['Location', 'Number of Jobs'])\n",
    "for location in locations:\n",
    "    ws.append(get_jobs_by_location(location))\n",
    "for row in ws.values:\n",
    "    for value in row:\n",
    "        print(value)\n"
   ]
  },
  {
   "cell_type": "code",
   "execution_count": 34,
   "id": "b8ca6f19",
   "metadata": {},
   "outputs": [],
   "source": [
    "wb.save(\"job_postings.xlsx\")  # Corrected typo from 'svae' to 'save'"
   ]
  },
  {
   "cell_type": "code",
   "execution_count": 37,
   "id": "5890c4cf",
   "metadata": {},
   "outputs": [
    {
     "name": "stdout",
     "output_type": "stream",
     "text": [
      "Technology\n",
      "Number_of_Jobs\n",
      "1173\n",
      "Python\n",
      "3428\n",
      "Java\n",
      "2248\n",
      "JavaScript\n",
      "506\n",
      "C++\n",
      "526\n",
      "C#\n",
      "25114\n",
      "C\n",
      "138\n",
      "Scala\n",
      "899\n",
      "Oracle\n",
      "423\n",
      "SQL Server\n",
      "0\n",
      "MySQL Server\n",
      "86\n",
      "PostgreSQL\n",
      "208\n",
      "MongoDB\n"
     ]
    }
   ],
   "source": [
    "import requests\n",
    "job_data = requests.get(api_url).json()\n",
    "def get_number_of_jobs(Technology):\n",
    "    count = sum(1 for job in job_data \n",
    "                if Technology.lower() in job.get('Key Skills', '').lower()) \n",
    "    return count, Technology\n",
    "\n",
    "from openpyxl import Workbook\n",
    "wb = Workbook()\n",
    "ws = wb.active\n",
    "ws.append(['Technology', 'Number_of_Jobs'])\n",
    "for technology in ['Python', 'Java', 'JavaScript', 'C++', 'C#','C','Scala','Oracle','SQL Server','MySQL Server','PostgreSQL','MongoDB']:\n",
    "    ws.append(get_number_of_jobs(technology))\n",
    "for row in ws.values:\n",
    "    for value in row:\n",
    "        print(value)\n",
    "wb.save(\"job_postings_technologies.xlsx\")\n"
   ]
  },
  {
   "cell_type": "code",
   "execution_count": null,
   "id": "e95d1d4e",
   "metadata": {},
   "outputs": [],
   "source": []
  }
 ],
 "metadata": {
  "kernelspec": {
   "display_name": "Python 3",
   "language": "python",
   "name": "python3"
  },
  "language_info": {
   "codemirror_mode": {
    "name": "ipython",
    "version": 3
   },
   "file_extension": ".py",
   "mimetype": "text/x-python",
   "name": "python",
   "nbconvert_exporter": "python",
   "pygments_lexer": "ipython3",
   "version": "3.12.4"
  }
 },
 "nbformat": 4,
 "nbformat_minor": 5
}
